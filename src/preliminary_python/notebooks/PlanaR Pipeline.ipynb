{
 "cells": [
  {
   "cell_type": "markdown",
   "metadata": {},
   "source": [
    "# Running the PlanaR Pipeline on an Image\n",
    "---\n",
    "## **Description:**\n",
    "This notebook provides users with a tutorial-esque approach to understand the preliminary work that went into the PlanaR pipeline (not to be confused with the OPlanaR pipeline discussed in the report). This pipeline was used to measure properties of MEndR muscle fibers. It uses classical computer vision techniques (connectvity, contour sketching, distance transforms, etc.) and a few shallow machine learning techniques (DBSCAN, Random Forest, etc.) to measure the properties of fibers. The fundamental concept is to take planar cross sections along the image length. This idea is not as good as orthogonal projections, however.\n",
    "\n",
    "Although the methods below are not state-of-the-art (deep learning) or the best solution for the problem (compared to the OPlanaR described in the project report), the motivation behind this notebook is three-fold:\n",
    "1. To provide useful functions for users that can act as a starting point for their image analysis tasks\n",
    "2. To extend the concepts behind this model to other tasks. Some extensions, off the top of my head, include:\n",
    "    - Identifying unique cell types based on morphological features (eg: cancer cell types that look different to other cell types)\n",
    "    - Localizing cells (eg: live cell imaging) which are disjoint\n",
    "    - Labelling cells to create datasets that can be used to train more advanced deep learning models \n",
    "3. To help researchers get acquainted with image analysis packages in Python (if they decide to migrate from MATLAB or R)\n",
    "\n",
    "The idea of interactive and open-source notebooks was in part inspired by the [Allen Institute](https://www.allencell.org/segmenter.html). \n",
    "\n",
    "If any difficulties or issues arise, please reach out to me at [dylan.mendonca@mail.utoronto.ca](mailto:dylan.mendonca@mail.utoronto.ca) and we will do our best to help.<br>\n",
    "\n",
    "<hr>\n",
    "\n",
    "### Prerequisites:\n",
    "This notebook assumes that:\n",
    "1. You are familiar with the functions created for this project and described in the tutorial notebook [here](tutorial.ipynb)\n",
    "2. You have read the MEng project report\n",
    "\n",
    "<hr>\n",
    "\n",
    "**Authors:** Dylan Mendonca<br>\n",
    "**Date of Last Revision:** October-8-2020<br>\n",
    "<hr>"
   ]
  },
  {
   "cell_type": "markdown",
   "metadata": {},
   "source": [
    "## Importing Packages"
   ]
  },
  {
   "cell_type": "code",
   "execution_count": 1,
   "metadata": {},
   "outputs": [],
   "source": [
    "import sys\n",
    "import numpy as np\n",
    "from aicsimageio import AICSImage\n",
    "from itkwidgets import view\n",
    "from skimage import morphology\n",
    "\n",
    "sys.path.append(\"../\")\n",
    "from utilities.format_helpers import array_to_image, image_to_array\n",
    "from utilities.visualize import side_by_side_3dview\n",
    "from utilities.sliceBySliceSegmenter import SliceBySliceSegmenter"
   ]
  },
  {
   "cell_type": "markdown",
   "metadata": {},
   "source": [
    "### Step 1: Import a Graph Cuts-based Segmentation\n",
    "The PlanaR pipeline makes use of a Graph Cuts-based thresholding strategy mentioned in the project report. \n",
    "\n",
    "The MATLAB code for doing the graph cuts thresholding can be found [here](../../matlab/Graphcut_Fibers_16.m). The script to run **only** the segmentation has been included [here](../../matlab/RunningScript_Thresholding.m) while the script to run **both** thresholding and bulk diameter measurements can be found [here](../../matlab/RunningScript_ThresholdingAndBulkMeasurementMethod.m). \n",
    "\n",
    "For more information on the aformentioned MATLAB code, please contact [Amir Meysami](mailto:amir.meysamifard@mail.utoronto.ca)."
   ]
  },
  {
   "cell_type": "code",
   "execution_count": 2,
   "metadata": {},
   "outputs": [],
   "source": [
    "# SPACING\n",
    "SPACING = [0.497, 0.497, 3]\n",
    "\n",
    "# Image directory\n",
    "image_dir = '../../../data/GFP-seg.tiff'\n",
    "\n",
    "# Loading the image\n",
    "reader = AICSImage(image_dir) \n",
    "IMG = reader.data.astype(np.bool)\n",
    "segmented = IMG[0,0,:,:,:]"
   ]
  },
  {
   "cell_type": "code",
   "execution_count": 3,
   "metadata": {},
   "outputs": [
    {
     "data": {
      "application/vnd.jupyter.widget-view+json": {
       "model_id": "311b6c70d4ef458db044b438dbd6ac4d",
       "version_major": 2,
       "version_minor": 0
      },
      "text/plain": [
       "Viewer(geometries=[], gradient_opacity=0.22, point_sets=[], rendered_image=<itk.itkImagePython.itkImageD3; pro…"
      ]
     },
     "metadata": {},
     "output_type": "display_data"
    }
   ],
   "source": [
    "view(array_to_image(segmented, spacing=SPACING))"
   ]
  },
  {
   "cell_type": "markdown",
   "metadata": {},
   "source": [
    "### Step 2: Remove Small Objects\n",
    "There are a view small objects, so we need to remove them"
   ]
  },
  {
   "cell_type": "code",
   "execution_count": 4,
   "metadata": {},
   "outputs": [],
   "source": [
    "##############\n",
    "# PARAMETERS #\n",
    "MIN_OBJECT_SIZE = 1000\n",
    "CONNECTIVITY = 26\n",
    "##############\n",
    "\n",
    "small_objs_removed = morphology.remove_small_objects(segmented, min_size=MIN_OBJECT_SIZE, connectivity=CONNECTIVITY)"
   ]
  },
  {
   "cell_type": "code",
   "execution_count": 5,
   "metadata": {
    "scrolled": false
   },
   "outputs": [
    {
     "data": {
      "application/vnd.jupyter.widget-view+json": {
       "model_id": "ac40beb5ae234faab0087d1ebe4eef92",
       "version_major": 2,
       "version_minor": 0
      },
      "text/plain": [
       "Viewer(geometries=[], gradient_opacity=0.22, point_sets=[], rendered_image=<itk.itkImagePython.itkImageD3; pro…"
      ]
     },
     "metadata": {},
     "output_type": "display_data"
    }
   ],
   "source": [
    "# Let's see the result\n",
    "side_by_side_3dview(small_objs_removed, segmented, spacing=SPACING)"
   ]
  },
  {
   "cell_type": "markdown",
   "metadata": {},
   "source": [
    "### Step 3: Planar Cuts & Measurements Along a Dimension\n",
    "This section of the pipeline will iterate through slices in a specified plane (either XZ (dim=1) or YZ (dim=2)), identify unique disconnected blobs, label them, and measure many properties about them (area, perimeter, convex area, etc.). This functionality is carried out by the SliceBySliceSegmenter object, whose code is located [here](../utilities/sliceBySliceSegmenter.py).\n",
    "\n",
    "The most important attributes of the object are:\n",
    "- `segmenter.zoomed_object`: The new object after accounting for voxel spacing. This is the object that the segmenter works with\n",
    "- `segmenter.labelled_object`: The object where each planes' blobs have been labelled. It's important to note that these labels might not necessarily coincide with each other between planes i.e. label 1 in plane 0 and label 1 in plane 1 might not belong to the same 3D fiber. It is also important to note that this object is the same size as zoomed object, so that voxel spacing is 1x1x1\n",
    "- `segmenter.slice_info`: A DataFrame containing all the slice numbers, labels, and measured properties of each label"
   ]
  },
  {
   "cell_type": "code",
   "execution_count": 6,
   "metadata": {},
   "outputs": [
    {
     "data": {
      "application/vnd.jupyter.widget-view+json": {
       "model_id": "5e6f673c84954f91b572159e0bee6ebc",
       "version_major": 2,
       "version_minor": 0
      },
      "text/plain": [
       "HBox(children=(FloatProgress(value=0.0, max=318.0), HTML(value='')))"
      ]
     },
     "metadata": {},
     "output_type": "display_data"
    },
    {
     "name": "stdout",
     "output_type": "stream",
     "text": [
      "\n"
     ]
    }
   ],
   "source": [
    "# The segmenter object does all the measurements within this line of code\n",
    "segmenter = SliceBySliceSegmenter(small_objs_removed, 'xz', SPACING, 'Connectivity')"
   ]
  },
  {
   "cell_type": "code",
   "execution_count": 7,
   "metadata": {},
   "outputs": [
    {
     "data": {
      "application/vnd.jupyter.widget-view+json": {
       "model_id": "ad4d97833cb04e3298dfc6f9ca3ff207",
       "version_major": 2,
       "version_minor": 0
      },
      "text/plain": [
       "VBox(children=(VBox(children=(IntSlider(value=0, description='Plane Number:', max=317),)), Output()))"
      ]
     },
     "metadata": {},
     "output_type": "display_data"
    }
   ],
   "source": [
    "# Here's another cool little feature to make sure that things are okay\n",
    "segmenter.widget()"
   ]
  },
  {
   "cell_type": "code",
   "execution_count": 8,
   "metadata": {},
   "outputs": [
    {
     "data": {
      "text/html": [
       "<div>\n",
       "<style scoped>\n",
       "    .dataframe tbody tr th:only-of-type {\n",
       "        vertical-align: middle;\n",
       "    }\n",
       "\n",
       "    .dataframe tbody tr th {\n",
       "        vertical-align: top;\n",
       "    }\n",
       "\n",
       "    .dataframe thead th {\n",
       "        text-align: right;\n",
       "    }\n",
       "</style>\n",
       "<table border=\"1\" class=\"dataframe\">\n",
       "  <thead>\n",
       "    <tr style=\"text-align: right;\">\n",
       "      <th></th>\n",
       "      <th>area</th>\n",
       "      <th>bbox-0</th>\n",
       "      <th>bbox-1</th>\n",
       "      <th>bbox-2</th>\n",
       "      <th>bbox-3</th>\n",
       "      <th>bbox_area</th>\n",
       "      <th>centroid-0</th>\n",
       "      <th>centroid-1</th>\n",
       "      <th>convex_area</th>\n",
       "      <th>convex_image</th>\n",
       "      <th>...</th>\n",
       "      <th>label</th>\n",
       "      <th>major_axis_length</th>\n",
       "      <th>minor_axis_length</th>\n",
       "      <th>no_of_objects</th>\n",
       "      <th>perimeter</th>\n",
       "      <th>slice</th>\n",
       "      <th>solidity</th>\n",
       "      <th>convexity_per</th>\n",
       "      <th>convexity_area</th>\n",
       "      <th>roundness</th>\n",
       "    </tr>\n",
       "  </thead>\n",
       "  <tbody>\n",
       "    <tr>\n",
       "      <th>0</th>\n",
       "      <td>62</td>\n",
       "      <td>79</td>\n",
       "      <td>200</td>\n",
       "      <td>89</td>\n",
       "      <td>211</td>\n",
       "      <td>110</td>\n",
       "      <td>83.419355</td>\n",
       "      <td>205.467742</td>\n",
       "      <td>89</td>\n",
       "      <td>[[True, True, True, True, True, False, False, ...</td>\n",
       "      <td>...</td>\n",
       "      <td>1</td>\n",
       "      <td>13.389653</td>\n",
       "      <td>9.169534</td>\n",
       "      <td>4</td>\n",
       "      <td>45.656854</td>\n",
       "      <td>0</td>\n",
       "      <td>0.696629</td>\n",
       "      <td>0.755314</td>\n",
       "      <td>1.435484</td>\n",
       "      <td>0.655140</td>\n",
       "    </tr>\n",
       "    <tr>\n",
       "      <th>1</th>\n",
       "      <td>3</td>\n",
       "      <td>80</td>\n",
       "      <td>123</td>\n",
       "      <td>83</td>\n",
       "      <td>124</td>\n",
       "      <td>3</td>\n",
       "      <td>81.000000</td>\n",
       "      <td>123.000000</td>\n",
       "      <td>3</td>\n",
       "      <td>[[True], [True], [True]]</td>\n",
       "      <td>...</td>\n",
       "      <td>2</td>\n",
       "      <td>3.265986</td>\n",
       "      <td>0.000000</td>\n",
       "      <td>4</td>\n",
       "      <td>1.000000</td>\n",
       "      <td>0</td>\n",
       "      <td>1.000000</td>\n",
       "      <td>1.000000</td>\n",
       "      <td>1.000000</td>\n",
       "      <td>37.699112</td>\n",
       "    </tr>\n",
       "    <tr>\n",
       "      <th>2</th>\n",
       "      <td>15</td>\n",
       "      <td>83</td>\n",
       "      <td>239</td>\n",
       "      <td>89</td>\n",
       "      <td>242</td>\n",
       "      <td>18</td>\n",
       "      <td>85.466667</td>\n",
       "      <td>240.066667</td>\n",
       "      <td>16</td>\n",
       "      <td>[[False, True, True], [True, True, True], [Tru...</td>\n",
       "      <td>...</td>\n",
       "      <td>3</td>\n",
       "      <td>6.510742</td>\n",
       "      <td>3.085668</td>\n",
       "      <td>4</td>\n",
       "      <td>12.242641</td>\n",
       "      <td>0</td>\n",
       "      <td>0.937500</td>\n",
       "      <td>1.047848</td>\n",
       "      <td>1.066667</td>\n",
       "      <td>1.145392</td>\n",
       "    </tr>\n",
       "    <tr>\n",
       "      <th>3</th>\n",
       "      <td>34</td>\n",
       "      <td>86</td>\n",
       "      <td>286</td>\n",
       "      <td>92</td>\n",
       "      <td>293</td>\n",
       "      <td>42</td>\n",
       "      <td>88.764706</td>\n",
       "      <td>288.735294</td>\n",
       "      <td>38</td>\n",
       "      <td>[[True, True, True, True, True, False, False],...</td>\n",
       "      <td>...</td>\n",
       "      <td>4</td>\n",
       "      <td>7.835405</td>\n",
       "      <td>6.146216</td>\n",
       "      <td>4</td>\n",
       "      <td>22.242641</td>\n",
       "      <td>0</td>\n",
       "      <td>0.894737</td>\n",
       "      <td>0.936419</td>\n",
       "      <td>1.117647</td>\n",
       "      <td>0.984863</td>\n",
       "    </tr>\n",
       "    <tr>\n",
       "      <th>4</th>\n",
       "      <td>9</td>\n",
       "      <td>80</td>\n",
       "      <td>121</td>\n",
       "      <td>83</td>\n",
       "      <td>124</td>\n",
       "      <td>9</td>\n",
       "      <td>81.000000</td>\n",
       "      <td>122.000000</td>\n",
       "      <td>9</td>\n",
       "      <td>[[True, True, True], [True, True, True], [True...</td>\n",
       "      <td>...</td>\n",
       "      <td>1</td>\n",
       "      <td>3.265986</td>\n",
       "      <td>3.265986</td>\n",
       "      <td>5</td>\n",
       "      <td>8.000000</td>\n",
       "      <td>1</td>\n",
       "      <td>1.000000</td>\n",
       "      <td>1.000000</td>\n",
       "      <td>1.000000</td>\n",
       "      <td>1.767146</td>\n",
       "    </tr>\n",
       "  </tbody>\n",
       "</table>\n",
       "<p>5 rows × 23 columns</p>\n",
       "</div>"
      ],
      "text/plain": [
       "   area  bbox-0  bbox-1  bbox-2  bbox-3  bbox_area  centroid-0  centroid-1  \\\n",
       "0    62      79     200      89     211        110   83.419355  205.467742   \n",
       "1     3      80     123      83     124          3   81.000000  123.000000   \n",
       "2    15      83     239      89     242         18   85.466667  240.066667   \n",
       "3    34      86     286      92     293         42   88.764706  288.735294   \n",
       "4     9      80     121      83     124          9   81.000000  122.000000   \n",
       "\n",
       "   convex_area                                       convex_image  ...  label  \\\n",
       "0           89  [[True, True, True, True, True, False, False, ...  ...      1   \n",
       "1            3                           [[True], [True], [True]]  ...      2   \n",
       "2           16  [[False, True, True], [True, True, True], [Tru...  ...      3   \n",
       "3           38  [[True, True, True, True, True, False, False],...  ...      4   \n",
       "4            9  [[True, True, True], [True, True, True], [True...  ...      1   \n",
       "\n",
       "   major_axis_length  minor_axis_length  no_of_objects  perimeter  slice  \\\n",
       "0          13.389653           9.169534              4  45.656854      0   \n",
       "1           3.265986           0.000000              4   1.000000      0   \n",
       "2           6.510742           3.085668              4  12.242641      0   \n",
       "3           7.835405           6.146216              4  22.242641      0   \n",
       "4           3.265986           3.265986              5   8.000000      1   \n",
       "\n",
       "   solidity  convexity_per  convexity_area  roundness  \n",
       "0  0.696629       0.755314        1.435484   0.655140  \n",
       "1  1.000000       1.000000        1.000000  37.699112  \n",
       "2  0.937500       1.047848        1.066667   1.145392  \n",
       "3  0.894737       0.936419        1.117647   0.984863  \n",
       "4  1.000000       1.000000        1.000000   1.767146  \n",
       "\n",
       "[5 rows x 23 columns]"
      ]
     },
     "execution_count": 8,
     "metadata": {},
     "output_type": "execute_result"
    }
   ],
   "source": [
    "# Here's the dataframe of information\n",
    "segmenter.slice_info.head()"
   ]
  }
 ],
 "metadata": {
  "kernelspec": {
   "display_name": "Python [conda env:segmentation_env] *",
   "language": "python",
   "name": "conda-env-segmentation_env-py"
  },
  "language_info": {
   "codemirror_mode": {
    "name": "ipython",
    "version": 3
   },
   "file_extension": ".py",
   "mimetype": "text/x-python",
   "name": "python",
   "nbconvert_exporter": "python",
   "pygments_lexer": "ipython3",
   "version": "3.6.10"
  }
 },
 "nbformat": 4,
 "nbformat_minor": 4
}
