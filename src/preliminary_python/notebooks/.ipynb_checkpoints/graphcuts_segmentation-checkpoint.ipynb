{
 "cells": [
  {
   "cell_type": "markdown",
   "metadata": {},
   "source": [
    "# Preliminary Work on Graphs in Python\n",
    "---\n",
    "## **Description:**\n",
    "At the time, I noticed that the Python packages for graphs aren't great (this might not be the case if you're reading this in the future). This notebook contains my attempt at creating image graphs on Python by borrowing some open-source functions on MATLAB. It's incredibly slow and clunky but it might be useful to some people. In my opinion, MATLAB is way better for graphs.\n",
    "\n",
    "If any difficulties or issues arise, please reach out to me at [dylanmendonca@gmail.com](mailto:dylanmendonca@gmail.com) and I can help.<br>\n",
    "\n",
    "<hr>\n",
    "\n",
    "### Prerequisites:\n",
    "This notebook assumes that:\n",
    "1. You are familiar with the functions created for this project and described in the tutorial notebook [here](tutorial.ipynb)\n",
    "\n",
    "<hr>\n",
    "\n",
    "**Authors:** Dylan Mendonca<br>\n",
    "**Date of Last Revision:** October-8-2020<br>\n",
    "<hr>"
   ]
  },
  {
   "cell_type": "code",
   "execution_count": 10,
   "metadata": {},
   "outputs": [],
   "source": [
    "import sys\n",
    "sys.path.append(\"../\")"
   ]
  },
  {
   "cell_type": "code",
   "execution_count": 11,
   "metadata": {},
   "outputs": [],
   "source": [
    "from utilities import format_helpers, modified_allen_functions, visualize\n",
    "import time\n",
    "import itertools"
   ]
  },
  {
   "cell_type": "code",
   "execution_count": 12,
   "metadata": {},
   "outputs": [],
   "source": [
    "import numpy as np\n",
    "import pandas as pd\n",
    "import itk\n",
    "from itkwidgets import view\n",
    "import matplotlib.pyplot as plt\n",
    "from ipywidgets import widgets\n",
    "from aicssegmentation.core.pre_processing_utils import suggest_normalization_param, intensity_normalization\n",
    "from aicsimageio import AICSImage, omeTifWriter \n",
    "from skimage.filters import threshold_otsu\n",
    "from tqdm.notebook import tqdm\n",
    "import networkx as nx"
   ]
  },
  {
   "cell_type": "code",
   "execution_count": 13,
   "metadata": {},
   "outputs": [],
   "source": [
    "image_dir = '../../../data/GFP.tif'"
   ]
  },
  {
   "cell_type": "code",
   "execution_count": 14,
   "metadata": {},
   "outputs": [],
   "source": [
    "reader = AICSImage(image_dir) \n",
    "IMG = reader.data.astype(np.float32)"
   ]
  },
  {
   "cell_type": "code",
   "execution_count": 16,
   "metadata": {},
   "outputs": [],
   "source": [
    "SPACING = [0.497, 0.497, 3]"
   ]
  },
  {
   "cell_type": "code",
   "execution_count": 17,
   "metadata": {},
   "outputs": [],
   "source": [
    "struct_img = IMG[0,0,:,:,:]"
   ]
  },
  {
   "cell_type": "code",
   "execution_count": 18,
   "metadata": {},
   "outputs": [
    {
     "name": "stdout",
     "output_type": "stream",
     "text": [
      "mean intensity of the stack: 92.13410186767578\n",
      "the standard deviation of intensity of the stack: 235.2281036376953\n",
      "0.9999 percentile of the stack intensity is: 4026.0\n",
      "minimum intensity of the stack: 0.0\n",
      "maximum intensity of the stack: 4095.0\n",
      "suggested upper range is 17.0, which is 4091.011863708496\n",
      "suggested lower range is 0.0, which is 92.13410186767578\n",
      "So, suggested parameter for normalization is [0.0, 17.0]\n",
      "To further enhance the contrast: You may increase the first value (may loss some dim parts), or decrease the second value(may loss some texture in super bright regions)\n",
      "To slightly reduce the contrast: You may decrease the first value, or increase the second value\n"
     ]
    }
   ],
   "source": [
    "suggest_normalization_param(struct_img)"
   ]
  },
  {
   "cell_type": "code",
   "execution_count": 19,
   "metadata": {},
   "outputs": [
    {
     "name": "stdout",
     "output_type": "stream",
     "text": [
      "intensity normalization: normalize into [mean - 0 x std, mean + 8 x std] \n",
      "intensity normalization completes\n"
     ]
    }
   ],
   "source": [
    "intensity_scaling_param = [0, 8]\n",
    "\n",
    "# intensity normalization\n",
    "struct_img0 = intensity_normalization(struct_img, scaling_param=intensity_scaling_param)"
   ]
  },
  {
   "cell_type": "code",
   "execution_count": 20,
   "metadata": {},
   "outputs": [],
   "source": [
    "##############\n",
    "# PARAMETERS #\n",
    "##############\n",
    "no_of_its = 5  \n",
    "cond = 1.2  # Typically range between 0.5 and 2. Higher value causes more diffusion/smoothing. Lower value causes less diffusion so less smoothing\n",
    "ts = 0.025  # Time step should be kept below (pixelspacing)/2^(N+1) where N is the number of image dimensions\n",
    "\n",
    "smoothed = modified_allen_functions.edge_preserving_smoothing_3d(struct_img=struct_img0, spacing=SPACING, \n",
    "                                                    numberOfIterations=no_of_its, \n",
    "                                                    conductance=cond, timeStep=ts)"
   ]
  },
  {
   "cell_type": "code",
   "execution_count": 21,
   "metadata": {},
   "outputs": [],
   "source": [
    "def createImageGraph3D(img, weight_type, spacing, conn=26, return_aux_data=False):\n",
    "    '''\n",
    "    Adapted from https://www.mathworks.com/matlabcentral/fileexchange/53614-image-graphs\n",
    "    by Steve Eddins\n",
    "    '''\n",
    "    assert conn in [6, 18, 26], \"Connectivity not supported for 3D images\"\n",
    "    \n",
    "    df, node_nums = createBinaryImageGraph3D(np.ones(img.shape), img, conn, weight_type, spacing)\n",
    "    \n",
    "    print(\"Creating Graph from Edge Table...\")\n",
    "    g = nx.from_pandas_edgelist(df, source='start_node', target='end_node', edge_attr='capacity')\n",
    "    \n",
    "    if return_aux_data:\n",
    "        return g, df, node_nums\n",
    "    else:\n",
    "        return g"
   ]
  },
  {
   "cell_type": "code",
   "execution_count": 22,
   "metadata": {},
   "outputs": [],
   "source": [
    "def createBinaryImageGraph3D(sz, img, conn, weight_type, spacing):\n",
    "    '''\n",
    "    Adapted from https://www.mathworks.com/matlabcentral/fileexchange/53614-image-graphs\n",
    "    by Steve Eddins\n",
    "    This assumes no foreground like Steve did\n",
    "    spacing in [x,y,z]\n",
    "    '''\n",
    "    # Create the connectivity and remove parts because of symmetry\n",
    "    conn = checkConnectivity(conn)\n",
    "    # Remove the center pixel\n",
    "    conn = remove_bc_of_symmetry(conn)\n",
    "    \n",
    "    # Figure out the offsets of each connected neighbor from the center pixel\n",
    "    z, y, x = conn.shape\n",
    "    offsets_z, offsets_y, offsets_x = np.where(conn == 1)\n",
    "    offsets_z = offsets_z - 1\n",
    "    offsets_y = offsets_y - 1\n",
    "    offsets_x = offsets_x - 1\n",
    "    \n",
    "    # Create a base configuration of xs, ys and zs \n",
    "    foreground_z, foreground_y, foreground_x = np.where(sz == 1)\n",
    "    \n",
    "    # Create a matrix of node_numbers\n",
    "    node_nums = np.arange(sz.size).reshape(sz.shape)\n",
    "\n",
    "    df = pd.DataFrame()\n",
    "    for i in tqdm(range(len(offsets_z))):\n",
    "        edge_table = createEdgeTable(bw=sz, img=img, node_nums=node_nums, \n",
    "                                     foreground_z=foreground_z, foreground_y=foreground_y, \n",
    "                                     foreground_x=foreground_x, \n",
    "                                     dz=offsets_z[i], dy=offsets_y[i], dx=offsets_x[i],\n",
    "                                     weight_type=weight_type,\n",
    "                                     spacing=spacing)\n",
    "        df = pd.concat([df, edge_table], axis = 0)\n",
    "        \n",
    "    \n",
    "    return df.reset_index(drop=True), node_nums"
   ]
  },
  {
   "cell_type": "code",
   "execution_count": 23,
   "metadata": {},
   "outputs": [],
   "source": [
    "def createEdgeTable(bw, img, node_nums, foreground_z, foreground_y, foreground_x, dz, dy, dx, weight_type, spacing):\n",
    "    '''\n",
    "    Spacing in [x,y,z] I reverse it\n",
    "    '''\n",
    "    df = pd.DataFrame({'start_node': node_nums.ravel(), 'start_z': foreground_z,\n",
    "                       'start_y': foreground_y, 'start_x': foreground_x})\n",
    "    df['end_z'] = df['start_z'] + dz\n",
    "    df['end_y'] = df['start_y'] + dy\n",
    "    df['end_x'] = df['start_x'] + dx\n",
    "    \n",
    "    df = df[~((df['end_z'] < 0) | (df['end_z'] >= bw.shape[0]) |\n",
    "         (df['end_y'] < 0) | (df['end_y'] >= bw.shape[1]) |\n",
    "         (df['end_x'] < 0) | (df['end_x'] >= bw.shape[2]))]\n",
    "\n",
    "    df['end_node'] = node_nums[(df['end_z'].values, df['end_y'].values, df['end_x'].values)]\n",
    "    \n",
    "    df['distances'] = createDistanceWeights(start_coords=df[['start_z', 'start_y', 'start_x']],\n",
    "                                            stop_coords=df[['end_z','end_y','end_x']],\n",
    "                                            spacing=spacing[::-1])\n",
    "    sigma = img.std()\n",
    "    df['capacity'] = createCapacityWeights(img=img, \n",
    "                                   start_coords=df[['start_z', 'start_y', 'start_x']],\n",
    "                                   stop_coords=df[['end_z','end_y','end_x']],\n",
    "                                   weight_type=weight_type,\n",
    "                                   distances=df['distances'].values,\n",
    "                                   sigma=sigma\n",
    "                                   )\n",
    "    \n",
    "    return df.reset_index(drop=True)"
   ]
  },
  {
   "cell_type": "code",
   "execution_count": 24,
   "metadata": {},
   "outputs": [],
   "source": [
    "def createCapacityWeights(img, weight_type, start_coords, stop_coords, **kwargs):\n",
    "    '''\n",
    "    Coordinates need to be provided as dataframe. Each column in start and stop need to correspond\n",
    "    Distances are dataframe of distances in same order as coordinates\n",
    "    '''\n",
    "    \n",
    "    assert weight_type in ['abs', 'gaussian'], \"Please enter a supported weighting type\"\n",
    "    \n",
    "    pixel_differences = img[start_coords['start_z'], start_coords['start_y'], start_coords['start_x']] \\\n",
    "                      - img[stop_coords['end_z'], stop_coords['end_y'], stop_coords['end_x']]\n",
    "    \n",
    "    if weight_type == 'abs':\n",
    "        return np.abs(pixel_differences)\n",
    "    elif weight_type == 'gaussian':\n",
    "        sigma = kwargs.get('sigma')\n",
    "        distances = kwargs.get('distances')\n",
    "        exponent = np.exp(-((pixel_differences**2)/(2*sigma*sigma)))\n",
    "        \n",
    "        return exponent/(distances*sigma*np.sqrt(2*np.pi))\n",
    "\n",
    "def createDistanceWeights(start_coords, stop_coords, spacing):\n",
    "    '''\n",
    "    Coordinates need to be provided as dataframe. Each column in start and stop need to correspond to each other\n",
    "    Outputs Eucledian distance\n",
    "    Need rows to be for each node pair and columns to be z, y, x or whatever order\n",
    "    Spacing needs to be in same order as columns\n",
    "    '''\n",
    "    return np.sqrt(np.sum(((start_coords.values - stop_coords.values)*spacing)**2, axis = 1))     "
   ]
  },
  {
   "cell_type": "code",
   "execution_count": 25,
   "metadata": {},
   "outputs": [],
   "source": [
    "def checkConnectivity(conn):\n",
    "    '''\n",
    "    MATLAB function for connectivity. Adapted from \n",
    "    https://www.mathworks.com/matlabcentral/fileexchange/53614-image-graphs\n",
    "    by Steve Eddins\n",
    "    '''\n",
    "    assert isinstance(conn, int), \"Connectivity must be a number\"\n",
    "    assert conn in [4,6,8,18,26], \"Connectivity not supported\"\n",
    "    \n",
    "    if conn == 4:\n",
    "        conn = np.array([[0, 1, 0], [1, 1, 1], [0, 1, 0]])\n",
    "\n",
    "    elif conn == 8:\n",
    "        conn = np.ones((3,3))\n",
    "\n",
    "    elif conn == 6:\n",
    "        outer = np.array([[0,0,0],[0,1,0], [0,0,0]])\n",
    "        conn = np.stack((outer, checkConnectivity(4), outer))\n",
    "        \n",
    "    elif conn == 18:\n",
    "        conn = np.stack((checkConnectivity(4), checkConnectivity(8), checkConnectivity(4)))\n",
    "\n",
    "    elif conn == 26:\n",
    "        conn = np.ones((3,3,3))\n",
    "        \n",
    "    return conn\n",
    "\n",
    "def remove_bc_of_symmetry(structuring_element):\n",
    "    '''\n",
    "    Removes useless parts of structuring element assuming symmetry\n",
    "    '''\n",
    "    rav = structuring_element.ravel()\n",
    "    rav[:int((len(rav)+1)/2)] = 0\n",
    "    conn = rav.reshape(structuring_element.shape)\n",
    "    \n",
    "    return conn"
   ]
  },
  {
   "cell_type": "code",
   "execution_count": 26,
   "metadata": {},
   "outputs": [
    {
     "data": {
      "application/vnd.jupyter.widget-view+json": {
       "model_id": "b2ece7b229d246adaa6d5a8fe5f39604",
       "version_major": 2,
       "version_minor": 0
      },
      "text/plain": [
       "HBox(children=(FloatProgress(value=0.0, max=13.0), HTML(value='')))"
      ]
     },
     "metadata": {},
     "output_type": "display_data"
    },
    {
     "name": "stdout",
     "output_type": "stream",
     "text": [
      "\n",
      "Creating Graph from Edge Table...\n"
     ]
    }
   ],
   "source": [
    "# Applying the graph conversion for only a part of the image\n",
    "G, edge_table, node_nums = createImageGraph3D(img=smoothed[:,:160,:160], \n",
    "                                              weight_type='gaussian', \n",
    "                                              spacing=SPACING, \n",
    "                                              conn=26, \n",
    "                                              return_aux_data=True)"
   ]
  },
  {
   "cell_type": "code",
   "execution_count": 27,
   "metadata": {},
   "outputs": [],
   "source": [
    "def createSourceAndSinkNodes(graph, img, node_nums, a, b, lambda_):\n",
    "    '''\n",
    "    Assumes image and node_nums are aligned\n",
    "    '''\n",
    "    # object\n",
    "    print(\"Rp calcs\")\n",
    "    Rp_s = (lambda_*np.exp(-(((np.abs(img - 1))**a)/(b**2)))).ravel()\n",
    "    # background\n",
    "    Rp_t = (lambda_*np.exp(-(((np.abs(img - 0))**a)/(b**2)))).ravel()\n",
    "    \n",
    "    assert len(Rp_s) == len(node_nums.ravel()), \"Image provided and number of nodes don't have the same length\"\n",
    "    \n",
    "    print(\"adding edges\")\n",
    "    \n",
    "    df_rps = pd.DataFrame({'capacity': Rp_s, 'start_node': ['s']*len(Rp_s), 'end_node': node_nums.ravel()})\n",
    "    \n",
    "    df_rpt = pd.DataFrame({'capacity': Rp_t, 'start_node': node_nums.ravel(), 'end_node': ['t']*len(Rp_t)})\n",
    "    df = pd.concat([df_rps, df_rpt], axis = 0).reset_index(drop=True)\n",
    "    \n",
    "    print(\"Adding sources and sinks to graph\")\n",
    "    for index, row in tqdm(df.iterrows(), total=df.shape[0]):\n",
    "        graph.add_edge(row['start_node'], row['end_node'], capacity= row['capacity'])\n",
    "    \n",
    "    \n",
    "    return graph"
   ]
  },
  {
   "cell_type": "code",
   "execution_count": 28,
   "metadata": {},
   "outputs": [
    {
     "name": "stdout",
     "output_type": "stream",
     "text": [
      "Rp calcs\n",
      "adding edges\n",
      "Adding sources and sinks to graph\n"
     ]
    },
    {
     "data": {
      "application/vnd.jupyter.widget-view+json": {
       "model_id": "bec5da497fdf4a6181e4994c0d130a1f",
       "version_major": 2,
       "version_minor": 0
      },
      "text/plain": [
       "HBox(children=(FloatProgress(value=0.0, max=1996800.0), HTML(value='')))"
      ]
     },
     "metadata": {},
     "output_type": "display_data"
    },
    {
     "name": "stdout",
     "output_type": "stream",
     "text": [
      "\n"
     ]
    },
    {
     "ename": "KeyboardInterrupt",
     "evalue": "",
     "output_type": "error",
     "traceback": [
      "\u001b[1;31m---------------------------------------------------------------------------\u001b[0m",
      "\u001b[1;31mKeyboardInterrupt\u001b[0m                         Traceback (most recent call last)",
      "\u001b[1;32m<ipython-input-28-43710adaecd1>\u001b[0m in \u001b[0;36m<module>\u001b[1;34m\u001b[0m\n\u001b[0;32m      1\u001b[0m \u001b[1;31m# Creating source and sink nodes for only a part of the image\u001b[0m\u001b[1;33m\u001b[0m\u001b[1;33m\u001b[0m\u001b[1;33m\u001b[0m\u001b[0m\n\u001b[1;32m----> 2\u001b[1;33m \u001b[0mG\u001b[0m \u001b[1;33m=\u001b[0m \u001b[0mcreateSourceAndSinkNodes\u001b[0m\u001b[1;33m(\u001b[0m\u001b[0mG\u001b[0m\u001b[1;33m,\u001b[0m \u001b[0msmoothed\u001b[0m\u001b[1;33m[\u001b[0m\u001b[1;33m:\u001b[0m\u001b[1;33m,\u001b[0m\u001b[1;33m:\u001b[0m\u001b[1;36m160\u001b[0m\u001b[1;33m,\u001b[0m\u001b[1;33m:\u001b[0m\u001b[1;36m160\u001b[0m\u001b[1;33m]\u001b[0m\u001b[1;33m,\u001b[0m \u001b[0mnode_nums\u001b[0m\u001b[1;33m,\u001b[0m \u001b[1;36m6\u001b[0m\u001b[1;33m,\u001b[0m \u001b[1;36m0.5\u001b[0m\u001b[1;33m,\u001b[0m \u001b[1;36m0.01\u001b[0m\u001b[1;33m)\u001b[0m\u001b[1;33m\u001b[0m\u001b[1;33m\u001b[0m\u001b[0m\n\u001b[0m",
      "\u001b[1;32m<ipython-input-27-977c8864c4f1>\u001b[0m in \u001b[0;36mcreateSourceAndSinkNodes\u001b[1;34m(graph, img, node_nums, a, b, lambda_)\u001b[0m\n\u001b[0;32m     19\u001b[0m \u001b[1;33m\u001b[0m\u001b[0m\n\u001b[0;32m     20\u001b[0m     \u001b[0mprint\u001b[0m\u001b[1;33m(\u001b[0m\u001b[1;34m\"Adding sources and sinks to graph\"\u001b[0m\u001b[1;33m)\u001b[0m\u001b[1;33m\u001b[0m\u001b[1;33m\u001b[0m\u001b[0m\n\u001b[1;32m---> 21\u001b[1;33m     \u001b[1;32mfor\u001b[0m \u001b[0mindex\u001b[0m\u001b[1;33m,\u001b[0m \u001b[0mrow\u001b[0m \u001b[1;32min\u001b[0m \u001b[0mtqdm\u001b[0m\u001b[1;33m(\u001b[0m\u001b[0mdf\u001b[0m\u001b[1;33m.\u001b[0m\u001b[0miterrows\u001b[0m\u001b[1;33m(\u001b[0m\u001b[1;33m)\u001b[0m\u001b[1;33m,\u001b[0m \u001b[0mtotal\u001b[0m\u001b[1;33m=\u001b[0m\u001b[0mdf\u001b[0m\u001b[1;33m.\u001b[0m\u001b[0mshape\u001b[0m\u001b[1;33m[\u001b[0m\u001b[1;36m0\u001b[0m\u001b[1;33m]\u001b[0m\u001b[1;33m)\u001b[0m\u001b[1;33m:\u001b[0m\u001b[1;33m\u001b[0m\u001b[1;33m\u001b[0m\u001b[0m\n\u001b[0m\u001b[0;32m     22\u001b[0m         \u001b[0mgraph\u001b[0m\u001b[1;33m.\u001b[0m\u001b[0madd_edge\u001b[0m\u001b[1;33m(\u001b[0m\u001b[0mrow\u001b[0m\u001b[1;33m[\u001b[0m\u001b[1;34m'start_node'\u001b[0m\u001b[1;33m]\u001b[0m\u001b[1;33m,\u001b[0m \u001b[0mrow\u001b[0m\u001b[1;33m[\u001b[0m\u001b[1;34m'end_node'\u001b[0m\u001b[1;33m]\u001b[0m\u001b[1;33m,\u001b[0m \u001b[0mcapacity\u001b[0m\u001b[1;33m=\u001b[0m \u001b[0mrow\u001b[0m\u001b[1;33m[\u001b[0m\u001b[1;34m'capacity'\u001b[0m\u001b[1;33m]\u001b[0m\u001b[1;33m)\u001b[0m\u001b[1;33m\u001b[0m\u001b[1;33m\u001b[0m\u001b[0m\n\u001b[0;32m     23\u001b[0m \u001b[1;33m\u001b[0m\u001b[0m\n",
      "\u001b[1;32m~\\Miniconda3\\envs\\segmentation_env\\lib\\site-packages\\tqdm\\notebook.py\u001b[0m in \u001b[0;36m__iter__\u001b[1;34m(self, *args, **kwargs)\u001b[0m\n\u001b[0;32m    215\u001b[0m     \u001b[1;32mdef\u001b[0m \u001b[0m__iter__\u001b[0m\u001b[1;33m(\u001b[0m\u001b[0mself\u001b[0m\u001b[1;33m,\u001b[0m \u001b[1;33m*\u001b[0m\u001b[0margs\u001b[0m\u001b[1;33m,\u001b[0m \u001b[1;33m**\u001b[0m\u001b[0mkwargs\u001b[0m\u001b[1;33m)\u001b[0m\u001b[1;33m:\u001b[0m\u001b[1;33m\u001b[0m\u001b[1;33m\u001b[0m\u001b[0m\n\u001b[0;32m    216\u001b[0m         \u001b[1;32mtry\u001b[0m\u001b[1;33m:\u001b[0m\u001b[1;33m\u001b[0m\u001b[1;33m\u001b[0m\u001b[0m\n\u001b[1;32m--> 217\u001b[1;33m             \u001b[1;32mfor\u001b[0m \u001b[0mobj\u001b[0m \u001b[1;32min\u001b[0m \u001b[0msuper\u001b[0m\u001b[1;33m(\u001b[0m\u001b[0mtqdm_notebook\u001b[0m\u001b[1;33m,\u001b[0m \u001b[0mself\u001b[0m\u001b[1;33m)\u001b[0m\u001b[1;33m.\u001b[0m\u001b[0m__iter__\u001b[0m\u001b[1;33m(\u001b[0m\u001b[1;33m*\u001b[0m\u001b[0margs\u001b[0m\u001b[1;33m,\u001b[0m \u001b[1;33m**\u001b[0m\u001b[0mkwargs\u001b[0m\u001b[1;33m)\u001b[0m\u001b[1;33m:\u001b[0m\u001b[1;33m\u001b[0m\u001b[1;33m\u001b[0m\u001b[0m\n\u001b[0m\u001b[0;32m    218\u001b[0m                 \u001b[1;31m# return super(tqdm...) will not catch exception\u001b[0m\u001b[1;33m\u001b[0m\u001b[1;33m\u001b[0m\u001b[1;33m\u001b[0m\u001b[0m\n\u001b[0;32m    219\u001b[0m                 \u001b[1;32myield\u001b[0m \u001b[0mobj\u001b[0m\u001b[1;33m\u001b[0m\u001b[1;33m\u001b[0m\u001b[0m\n",
      "\u001b[1;32m~\\Miniconda3\\envs\\segmentation_env\\lib\\site-packages\\tqdm\\std.py\u001b[0m in \u001b[0;36m__iter__\u001b[1;34m(self)\u001b[0m\n\u001b[0;32m   1127\u001b[0m \u001b[1;33m\u001b[0m\u001b[0m\n\u001b[0;32m   1128\u001b[0m         \u001b[1;32mtry\u001b[0m\u001b[1;33m:\u001b[0m\u001b[1;33m\u001b[0m\u001b[1;33m\u001b[0m\u001b[0m\n\u001b[1;32m-> 1129\u001b[1;33m             \u001b[1;32mfor\u001b[0m \u001b[0mobj\u001b[0m \u001b[1;32min\u001b[0m \u001b[0miterable\u001b[0m\u001b[1;33m:\u001b[0m\u001b[1;33m\u001b[0m\u001b[1;33m\u001b[0m\u001b[0m\n\u001b[0m\u001b[0;32m   1130\u001b[0m                 \u001b[1;32myield\u001b[0m \u001b[0mobj\u001b[0m\u001b[1;33m\u001b[0m\u001b[1;33m\u001b[0m\u001b[0m\n\u001b[0;32m   1131\u001b[0m                 \u001b[1;31m# Update and possibly print the progressbar.\u001b[0m\u001b[1;33m\u001b[0m\u001b[1;33m\u001b[0m\u001b[1;33m\u001b[0m\u001b[0m\n",
      "\u001b[1;32m~\\Miniconda3\\envs\\segmentation_env\\lib\\site-packages\\pandas\\core\\frame.py\u001b[0m in \u001b[0;36miterrows\u001b[1;34m(self)\u001b[0m\n\u001b[0;32m    950\u001b[0m         \u001b[0mklass\u001b[0m \u001b[1;33m=\u001b[0m \u001b[0mself\u001b[0m\u001b[1;33m.\u001b[0m\u001b[0m_constructor_sliced\u001b[0m\u001b[1;33m\u001b[0m\u001b[1;33m\u001b[0m\u001b[0m\n\u001b[0;32m    951\u001b[0m         \u001b[1;32mfor\u001b[0m \u001b[0mk\u001b[0m\u001b[1;33m,\u001b[0m \u001b[0mv\u001b[0m \u001b[1;32min\u001b[0m \u001b[0mzip\u001b[0m\u001b[1;33m(\u001b[0m\u001b[0mself\u001b[0m\u001b[1;33m.\u001b[0m\u001b[0mindex\u001b[0m\u001b[1;33m,\u001b[0m \u001b[0mself\u001b[0m\u001b[1;33m.\u001b[0m\u001b[0mvalues\u001b[0m\u001b[1;33m)\u001b[0m\u001b[1;33m:\u001b[0m\u001b[1;33m\u001b[0m\u001b[1;33m\u001b[0m\u001b[0m\n\u001b[1;32m--> 952\u001b[1;33m             \u001b[0ms\u001b[0m \u001b[1;33m=\u001b[0m \u001b[0mklass\u001b[0m\u001b[1;33m(\u001b[0m\u001b[0mv\u001b[0m\u001b[1;33m,\u001b[0m \u001b[0mindex\u001b[0m\u001b[1;33m=\u001b[0m\u001b[0mcolumns\u001b[0m\u001b[1;33m,\u001b[0m \u001b[0mname\u001b[0m\u001b[1;33m=\u001b[0m\u001b[0mk\u001b[0m\u001b[1;33m)\u001b[0m\u001b[1;33m\u001b[0m\u001b[1;33m\u001b[0m\u001b[0m\n\u001b[0m\u001b[0;32m    953\u001b[0m             \u001b[1;32myield\u001b[0m \u001b[0mk\u001b[0m\u001b[1;33m,\u001b[0m \u001b[0ms\u001b[0m\u001b[1;33m\u001b[0m\u001b[1;33m\u001b[0m\u001b[0m\n\u001b[0;32m    954\u001b[0m \u001b[1;33m\u001b[0m\u001b[0m\n",
      "\u001b[1;32m~\\Miniconda3\\envs\\segmentation_env\\lib\\site-packages\\pandas\\core\\series.py\u001b[0m in \u001b[0;36m__init__\u001b[1;34m(self, data, index, dtype, name, copy, fastpath)\u001b[0m\n\u001b[0;32m    303\u001b[0m                     \u001b[0mdata\u001b[0m \u001b[1;33m=\u001b[0m \u001b[0mdata\u001b[0m\u001b[1;33m.\u001b[0m\u001b[0mcopy\u001b[0m\u001b[1;33m(\u001b[0m\u001b[1;33m)\u001b[0m\u001b[1;33m\u001b[0m\u001b[1;33m\u001b[0m\u001b[0m\n\u001b[0;32m    304\u001b[0m             \u001b[1;32melse\u001b[0m\u001b[1;33m:\u001b[0m\u001b[1;33m\u001b[0m\u001b[1;33m\u001b[0m\u001b[0m\n\u001b[1;32m--> 305\u001b[1;33m                 \u001b[0mdata\u001b[0m \u001b[1;33m=\u001b[0m \u001b[0msanitize_array\u001b[0m\u001b[1;33m(\u001b[0m\u001b[0mdata\u001b[0m\u001b[1;33m,\u001b[0m \u001b[0mindex\u001b[0m\u001b[1;33m,\u001b[0m \u001b[0mdtype\u001b[0m\u001b[1;33m,\u001b[0m \u001b[0mcopy\u001b[0m\u001b[1;33m,\u001b[0m \u001b[0mraise_cast_failure\u001b[0m\u001b[1;33m=\u001b[0m\u001b[1;32mTrue\u001b[0m\u001b[1;33m)\u001b[0m\u001b[1;33m\u001b[0m\u001b[1;33m\u001b[0m\u001b[0m\n\u001b[0m\u001b[0;32m    306\u001b[0m \u001b[1;33m\u001b[0m\u001b[0m\n\u001b[0;32m    307\u001b[0m                 \u001b[0mdata\u001b[0m \u001b[1;33m=\u001b[0m \u001b[0mSingleBlockManager\u001b[0m\u001b[1;33m(\u001b[0m\u001b[0mdata\u001b[0m\u001b[1;33m,\u001b[0m \u001b[0mindex\u001b[0m\u001b[1;33m,\u001b[0m \u001b[0mfastpath\u001b[0m\u001b[1;33m=\u001b[0m\u001b[1;32mTrue\u001b[0m\u001b[1;33m)\u001b[0m\u001b[1;33m\u001b[0m\u001b[1;33m\u001b[0m\u001b[0m\n",
      "\u001b[1;32m~\\Miniconda3\\envs\\segmentation_env\\lib\\site-packages\\pandas\\core\\construction.py\u001b[0m in \u001b[0;36msanitize_array\u001b[1;34m(data, index, dtype, copy, raise_cast_failure)\u001b[0m\n\u001b[0;32m    422\u001b[0m         \u001b[1;32melse\u001b[0m\u001b[1;33m:\u001b[0m\u001b[1;33m\u001b[0m\u001b[1;33m\u001b[0m\u001b[0m\n\u001b[0;32m    423\u001b[0m             \u001b[1;31m# we will try to copy be-definition here\u001b[0m\u001b[1;33m\u001b[0m\u001b[1;33m\u001b[0m\u001b[1;33m\u001b[0m\u001b[0m\n\u001b[1;32m--> 424\u001b[1;33m             \u001b[0msubarr\u001b[0m \u001b[1;33m=\u001b[0m \u001b[0m_try_cast\u001b[0m\u001b[1;33m(\u001b[0m\u001b[0mdata\u001b[0m\u001b[1;33m,\u001b[0m \u001b[0mdtype\u001b[0m\u001b[1;33m,\u001b[0m \u001b[0mcopy\u001b[0m\u001b[1;33m,\u001b[0m \u001b[0mraise_cast_failure\u001b[0m\u001b[1;33m)\u001b[0m\u001b[1;33m\u001b[0m\u001b[1;33m\u001b[0m\u001b[0m\n\u001b[0m\u001b[0;32m    425\u001b[0m \u001b[1;33m\u001b[0m\u001b[0m\n\u001b[0;32m    426\u001b[0m     \u001b[1;32melif\u001b[0m \u001b[0misinstance\u001b[0m\u001b[1;33m(\u001b[0m\u001b[0mdata\u001b[0m\u001b[1;33m,\u001b[0m \u001b[0mABCExtensionArray\u001b[0m\u001b[1;33m)\u001b[0m\u001b[1;33m:\u001b[0m\u001b[1;33m\u001b[0m\u001b[1;33m\u001b[0m\u001b[0m\n",
      "\u001b[1;32m~\\Miniconda3\\envs\\segmentation_env\\lib\\site-packages\\pandas\\core\\construction.py\u001b[0m in \u001b[0;36m_try_cast\u001b[1;34m(arr, dtype, copy, raise_cast_failure)\u001b[0m\n\u001b[0;32m    535\u001b[0m             \u001b[0msubarr\u001b[0m \u001b[1;33m=\u001b[0m \u001b[0mmaybe_cast_to_integer_array\u001b[0m\u001b[1;33m(\u001b[0m\u001b[0marr\u001b[0m\u001b[1;33m,\u001b[0m \u001b[0mdtype\u001b[0m\u001b[1;33m)\u001b[0m\u001b[1;33m\u001b[0m\u001b[1;33m\u001b[0m\u001b[0m\n\u001b[0;32m    536\u001b[0m \u001b[1;33m\u001b[0m\u001b[0m\n\u001b[1;32m--> 537\u001b[1;33m         \u001b[0msubarr\u001b[0m \u001b[1;33m=\u001b[0m \u001b[0mmaybe_cast_to_datetime\u001b[0m\u001b[1;33m(\u001b[0m\u001b[0marr\u001b[0m\u001b[1;33m,\u001b[0m \u001b[0mdtype\u001b[0m\u001b[1;33m)\u001b[0m\u001b[1;33m\u001b[0m\u001b[1;33m\u001b[0m\u001b[0m\n\u001b[0m\u001b[0;32m    538\u001b[0m         \u001b[1;31m# Take care in creating object arrays (but iterators are not\u001b[0m\u001b[1;33m\u001b[0m\u001b[1;33m\u001b[0m\u001b[1;33m\u001b[0m\u001b[0m\n\u001b[0;32m    539\u001b[0m         \u001b[1;31m# supported):\u001b[0m\u001b[1;33m\u001b[0m\u001b[1;33m\u001b[0m\u001b[1;33m\u001b[0m\u001b[0m\n",
      "\u001b[1;32m~\\Miniconda3\\envs\\segmentation_env\\lib\\site-packages\\pandas\\core\\dtypes\\cast.py\u001b[0m in \u001b[0;36mmaybe_cast_to_datetime\u001b[1;34m(value, dtype, errors)\u001b[0m\n\u001b[0;32m   1214\u001b[0m     \u001b[1;32mfrom\u001b[0m \u001b[0mpandas\u001b[0m\u001b[1;33m.\u001b[0m\u001b[0mcore\u001b[0m\u001b[1;33m.\u001b[0m\u001b[0mtools\u001b[0m\u001b[1;33m.\u001b[0m\u001b[0mdatetimes\u001b[0m \u001b[1;32mimport\u001b[0m \u001b[0mto_datetime\u001b[0m\u001b[1;33m\u001b[0m\u001b[1;33m\u001b[0m\u001b[0m\n\u001b[0;32m   1215\u001b[0m \u001b[1;33m\u001b[0m\u001b[0m\n\u001b[1;32m-> 1216\u001b[1;33m     \u001b[1;32mif\u001b[0m \u001b[0mdtype\u001b[0m \u001b[1;32mis\u001b[0m \u001b[1;32mnot\u001b[0m \u001b[1;32mNone\u001b[0m\u001b[1;33m:\u001b[0m\u001b[1;33m\u001b[0m\u001b[1;33m\u001b[0m\u001b[0m\n\u001b[0m\u001b[0;32m   1217\u001b[0m         \u001b[1;32mif\u001b[0m \u001b[0misinstance\u001b[0m\u001b[1;33m(\u001b[0m\u001b[0mdtype\u001b[0m\u001b[1;33m,\u001b[0m \u001b[0mstr\u001b[0m\u001b[1;33m)\u001b[0m\u001b[1;33m:\u001b[0m\u001b[1;33m\u001b[0m\u001b[1;33m\u001b[0m\u001b[0m\n\u001b[0;32m   1218\u001b[0m             \u001b[0mdtype\u001b[0m \u001b[1;33m=\u001b[0m \u001b[0mnp\u001b[0m\u001b[1;33m.\u001b[0m\u001b[0mdtype\u001b[0m\u001b[1;33m(\u001b[0m\u001b[0mdtype\u001b[0m\u001b[1;33m)\u001b[0m\u001b[1;33m\u001b[0m\u001b[1;33m\u001b[0m\u001b[0m\n",
      "\u001b[1;31mKeyboardInterrupt\u001b[0m: "
     ]
    }
   ],
   "source": [
    "# Creating source and sink nodes for only a part of the image\n",
    "G = createSourceAndSinkNodes(G, smoothed[:,:160,:160], node_nums, 6, 0.5, 0.01)"
   ]
  }
 ],
 "metadata": {
  "kernelspec": {
   "display_name": "Python 3",
   "language": "python",
   "name": "python3"
  },
  "language_info": {
   "codemirror_mode": {
    "name": "ipython",
    "version": 3
   },
   "file_extension": ".py",
   "mimetype": "text/x-python",
   "name": "python",
   "nbconvert_exporter": "python",
   "pygments_lexer": "ipython3",
   "version": "3.6.10"
  }
 },
 "nbformat": 4,
 "nbformat_minor": 2
}
