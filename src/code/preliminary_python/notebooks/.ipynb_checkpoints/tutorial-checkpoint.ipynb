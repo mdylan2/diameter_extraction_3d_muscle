{
 "cells": [
  {
   "cell_type": "markdown",
   "metadata": {},
   "source": [
    "# Tutorial\n",
    "---\n",
    "## **Description:** \n",
    "This notebook provides users with a tutorial to understand some useful functions, packages, and concepts for image analysis. All the functions used below can be found in the scripts in [this folder](../utilities).\n",
    "\n",
    "The idea of interactive and open-source notebooks was in part inspired by the [Allen Institute](https://www.allencell.org/segmenter.html). \n",
    "\n",
    "If any difficulties or issues arise, please reach out to me at [dylanmendonca@gmail.com](mailto:dylanmendonca@gmail.com) and I will do my best to help.<br>\n",
    "\n",
    "<hr>\n",
    "\n",
    "**Authors:** Dylan Mendonca<br>\n",
    "**Date of Last Revision:** October-8-2020<br>\n",
    "\n",
    "<hr>"
   ]
  },
  {
   "cell_type": "markdown",
   "metadata": {},
   "source": [
    "## Importing Packages\n",
    "Below, I import packages that I think are most useful for people starting out in Image Analysis. Obviously, as you get better, you'll figure out your own favorite libraries and probably create your own functions for doing things. I also import my own custom-made functions from the utilities folder. I've included a list below and a high level description of what these packages can be used for:\n",
    "- `NumPy`: A linear algebra library for Python. Think matrix multiplications, vector operations, etc.\n",
    "- `Pandas`: A fast, powerful, flexible and easy to use open source data analysis and manipulation tool, built on top of the Python's NumPy library\n",
    "- `Matplotlib`: This is a plotting package which can be used to plot graphs or present images\n",
    "- `ITK`: A C/C++ based image analysis library\n",
    "- `itkwidgets`: An interactive Jupyter widgets package to visualize images in 3D, point sets, and meshes. Supports a lot of different data formats. It probably spawned from ITK but I'm not sure\n",
    "- `ipywidgets`: A library that provides interactive widgets to the Jupyter environment. Think sliders, dropdowns, etc.\n",
    "- `Allen Institute Cell Segmenter`: The Allen Institute has built a very nice set of functions and tools to read, process and segment images (aicssegmentation). They constantly release new updates and they're all about open sourcing code; which is why I decided to build my functions on top of theirs\n",
    "- `Skimage`: A collection of algorithms for image processing\n",
    "- `SciPy`: The Python scientific package. Luckily, it also contains some image functions\n",
    "- `scikit-learn`: Machine learning algorithm implementations for Python (sklearn). This package also includes useful data pre-processing tools\n",
    "- `tqdm`: Creates progress bars"
   ]
  },
  {
   "cell_type": "code",
   "execution_count": 1,
   "metadata": {},
   "outputs": [],
   "source": [
    "# TODO fix these imports\n",
    "import numpy as np\n",
    "import pandas as pd\n",
    "import itk\n",
    "from itkwidgets import view\n",
    "import matplotlib.pyplot as plt\n",
    "from matplotlib import cm\n",
    "\n",
    "from aicssegmentation.core.pre_processing_utils import suggest_normalization_param, intensity_normalization\n",
    "from aicsimageio import AICSImage, omeTifWriter \n",
    "from skimage.filters import threshold_otsu\n",
    "from skimage.morphology import remove_small_objects, medial_axis, skeletonize\n",
    "from skimage import measure\n",
    "import scipy.ndimage as ndi\n",
    "from scipy.ndimage.morphology import distance_transform_edt\n",
    "from scipy import stats\n",
    "from scipy.spatial import qhull\n",
    "from sklearn import cluster\n",
    "from sklearn.model_selection import GridSearchCV\n",
    "from sklearn.preprocessing import StandardScaler\n",
    "from sklearn.metrics import silhouette_score\n",
    "from sklearn import neighbors\n",
    "from sklearn import preprocessing\n",
    "from tqdm.notebook import tqdm\n",
    "\n",
    "import sys\n",
    "sys.path.append(\"../\")\n",
    "\n",
    "from utilities.format_helpers import array_to_image, image_to_array\n",
    "from utilities.visualize import twodee_plot, side_by_side_3dview\n",
    "from utilities.widgets import twodee_widgets"
   ]
  },
  {
   "cell_type": "markdown",
   "metadata": {},
   "source": [
    "## How to Load Image Data\n",
    "I typically use the Allen Cell Segmenter's AICSImage class to load my images. This spits out a numpy array in the following output shape (T,C,Z,Y,X) or (Image Number, Channel Number, Z Stack, Y Stack, X Stack)."
   ]
  },
  {
   "cell_type": "code",
   "execution_count": 2,
   "metadata": {},
   "outputs": [],
   "source": [
    "# Specify your image directory below. Here, I've chosen the filepath to be an image segmented using the \n",
    "# Graph-Cuts approach\n",
    "image_dir = '../../../data/GFP-seg.tiff'\n",
    "\n",
    "# Loading the image and the metadata for the image. The image comes out as a numpy array\n",
    "reader = AICSImage(image_dir) \n",
    "IMG = reader.data.astype(np.float32)"
   ]
  },
  {
   "cell_type": "code",
   "execution_count": 3,
   "metadata": {},
   "outputs": [
    {
     "name": "stdout",
     "output_type": "stream",
     "text": [
      "(1, 1, 39, 640, 640)\n"
     ]
    }
   ],
   "source": [
    "# Here's how we can check the shape of the array\n",
    "# Based on this, we see that our image is 1x1x36x640x640 (1 image, 1 GFP channel, 36 z-slices, 640 x-slices, 640 y-slices) \n",
    "# or 36 height stacks of 640x640 pixel^2 images\n",
    "print(IMG.shape)"
   ]
  },
  {
   "cell_type": "markdown",
   "metadata": {},
   "source": [
    "## Understanding How to Think About Images in Python\n",
    "It's really important that you familiarize yourself with how images are thought of in ITK. Review [this](https://simpleitk.readthedocs.io/en/master/fundamentalConcepts.html) link if you're interested in understanding this very well. \n",
    "\n",
    "The image below summarizes the idea of images quite well:\n",
    "![image](images_for_notebook/images_in_itk.png)\n",
    "\n",
    "Essentially, you can represent 2-D or 3-D images as arrays where each entry gets an intensity value for each channel (a channel could be Red, Green or Blue i.e. RGB image or it could be Grayscale). Spacing captures how much area/volume that that intensity spans. The volume that the intensity spans depends on how many images you've taken and the volume you've captured with those images. Packages like SITK/ITK will interpolate between intensities for the volume spanned by that intensity. There are many different types of interpolation. I believe that ITK uses linear interpolation but I might be wrong.\n",
    "\n",
    "**A word of advice:** Always make sure to check voxel spacing when implementing computer vision functions. "
   ]
  },
  {
   "cell_type": "markdown",
   "metadata": {},
   "source": [
    "## Useful Functions to Exchange between File Formats\n",
    "As we pointed out, numpy arrays and SITK/ITK images are different in that one accounts for spacing while the other does not. When viewing images, you want to incorporate the spacing. When applying operations or algorithms to images, you may/may not want to incorporate spacing - it really depends on the algorithm you're applying.\n",
    "\n",
    "With the above motivation in mind, here are some functions that allow us to convert between ITK and NumPy formats. When we convert to ITK, we want to account for spacing."
   ]
  },
  {
   "cell_type": "code",
   "execution_count": 4,
   "metadata": {},
   "outputs": [],
   "source": [
    "# I'm going to define my image spacing here because it'll come in handy down the line\n",
    "SPACING = [0.497, 0.497, 3]"
   ]
  },
  {
   "cell_type": "code",
   "execution_count": 5,
   "metadata": {},
   "outputs": [
    {
     "name": "stdout",
     "output_type": "stream",
     "text": [
      "Voxel Spacing: itkVectorD3 ([0.497, 0.497, 3])\n",
      "Array Shape From Image: (39, 640, 640)\n"
     ]
    }
   ],
   "source": [
    "# Here I demonstrate some of these functions\n",
    "IMG_in_itk = array_to_image(IMG[0,0,:,:,:], spacing=SPACING)\n",
    "print(\"Voxel Spacing:\", IMG_in_itk.GetSpacing())\n",
    "\n",
    "IMG_in_array = image_to_array(IMG_in_itk)\n",
    "print(\"Array Shape From Image:\", IMG_in_array.shape)"
   ]
  },
  {
   "cell_type": "markdown",
   "metadata": {},
   "source": [
    "## How to Easily View Images in 2D and 3D\n",
    "An important part in image analysis is looking at your images! There are some functions to do that below."
   ]
  },
  {
   "cell_type": "code",
   "execution_count": 10,
   "metadata": {},
   "outputs": [
    {
     "data": {
      "image/png": "[encoded data removed]",
      "text/plain": [
       "<Figure size 1152x576 with 2 Axes>"
      ]
     },
     "metadata": {
      "needs_background": "light"
     },
     "output_type": "display_data"
    },
    {
     "data": {
      "image/png": "[encoded data removed]",
      "text/plain": [
       "<Figure size 1152x576 with 4 Axes>"
      ]
     },
     "metadata": {
      "needs_background": "light"
     },
     "output_type": "display_data"
    },
    {
     "data": {
      "image/png": "[encoded data removed]",
      "text/plain": [
       "<Figure size 1152x576 with 4 Axes>"
      ]
     },
     "metadata": {
      "needs_background": "light"
     },
     "output_type": "display_data"
    }
   ],
   "source": [
    "# We will pick the first image and the first channel\n",
    "struct_img = IMG[0,0,:,:,:]\n",
    "\n",
    "# Visualizing the xz plane at y-slice of 2\n",
    "axes = twodee_plot([struct_img, struct_img], spacing=SPACING, orientation = 'xz',slice_ = 2, labels = [\"Changing the title\", \"Two images\"])\n",
    "\n",
    "# Visualizing the xy plane at z-slice of 20\n",
    "axes_2 = twodee_plot([struct_img, struct_img, struct_img, struct_img], SPACING, 'xy', 20)\n",
    "\n",
    "# Visualizing the yz plane at a x-slice of 5\n",
    "axes_3 = twodee_plot([struct_img, struct_img, struct_img, struct_img], SPACING, 'zy', 5, cols = 4)"
   ]
  },
  {
   "cell_type": "markdown",
   "metadata": {},
   "source": [
    "We might also want to view our images in 3D. Luckily, ITKWidgets has a simple function to view 3D images. However, we just need to remember that we need to account for voxel spacing! We can do that by using the function I defined above to convert an array to an image"
   ]
  },
  {
   "cell_type": "code",
   "execution_count": 11,
   "metadata": {},
   "outputs": [
    {
     "data": {
      "application/vnd.jupyter.widget-view+json": {
       "model_id": "3334185f09f043a0ba6e954663b69950",
       "version_major": 2,
       "version_minor": 0
      },
      "text/plain": [
       "Viewer(geometries=[], gradient_opacity=0.22, point_sets=[], rendered_image=<itk.itkImagePython.itkImageD3; pro…"
      ]
     },
     "metadata": {},
     "output_type": "display_data"
    }
   ],
   "source": [
    "view(array_to_image(struct_img, spacing = SPACING))"
   ]
  },
  {
   "cell_type": "markdown",
   "metadata": {},
   "source": [
    "We also might want to see things side by side!"
   ]
  },
  {
   "cell_type": "code",
   "execution_count": 12,
   "metadata": {},
   "outputs": [
    {
     "data": {
      "application/vnd.jupyter.widget-view+json": {
       "model_id": "fef181896c2f4748a8f461a6d3875f4b",
       "version_major": 2,
       "version_minor": 0
      },
      "text/plain": [
       "Viewer(geometries=[], gradient_opacity=0.22, point_sets=[], rendered_image=<itk.itkImagePython.itkImageD3; pro…"
      ]
     },
     "metadata": {},
     "output_type": "display_data"
    }
   ],
   "source": [
    "side_by_side_3dview(struct_img,struct_img, spacing = SPACING)"
   ]
  },
  {
   "cell_type": "markdown",
   "metadata": {},
   "source": [
    "Also, given that you might want something a bit more interactive, I've built a nice 2D object that will take in one image, or a list of images, and spit out a lot of 2D views where you can scroll between planes in an interactive fashion. I've also added some useful metrics to compare the images using the Dice Coefficient. The Dice Coefficient is a useful metric to compare the similarity between two segmentations (read more about it [here](https://towardsdatascience.com/metrics-to-evaluate-your-semantic-segmentation-model-6bcb99639aa2)). This widget can definitely be improved upon to give you additional metrics to compare many 2D images."
   ]
  },
  {
   "cell_type": "code",
   "execution_count": 13,
   "metadata": {},
   "outputs": [
    {
     "data": {
      "application/vnd.jupyter.widget-view+json": {
       "model_id": "df0d7bb2b91640d3b4cb095968e9da6f",
       "version_major": 2,
       "version_minor": 0
      },
      "text/plain": [
       "VBox(children=(VBox(children=(IntSlider(value=0, description='Plane Number:', max=38),)), Output()))"
      ]
     },
     "metadata": {},
     "output_type": "display_data"
    }
   ],
   "source": [
    "# Initializing the object\n",
    "twodee_object = twodee_widgets([struct_img,struct_img], spacing = SPACING, labels = ['Image 1', 'Image 2'])\n",
    "\n",
    "# Here's an example of a widget for the xy plane\n",
    "twodee_object.widget_xy()"
   ]
  },
  {
   "cell_type": "code",
   "execution_count": 14,
   "metadata": {},
   "outputs": [
    {
     "data": {
      "application/vnd.jupyter.widget-view+json": {
       "model_id": "f9a43ddbaa4748009ffbc35e2176d4c5",
       "version_major": 2,
       "version_minor": 0
      },
      "text/plain": [
       "VBox(children=(VBox(children=(IntSlider(value=0, description='Plane Number:', max=639),)), Output()))"
      ]
     },
     "metadata": {},
     "output_type": "display_data"
    }
   ],
   "source": [
    "# Here's an example for a widget in the xz plane\n",
    "twodee_object.widget_xz()"
   ]
  },
  {
   "cell_type": "code",
   "execution_count": 15,
   "metadata": {},
   "outputs": [
    {
     "data": {
      "text/html": [
       "<div>\n",
       "<style scoped>\n",
       "    .dataframe tbody tr th:only-of-type {\n",
       "        vertical-align: middle;\n",
       "    }\n",
       "\n",
       "    .dataframe tbody tr th {\n",
       "        vertical-align: top;\n",
       "    }\n",
       "\n",
       "    .dataframe thead th {\n",
       "        text-align: right;\n",
       "    }\n",
       "</style>\n",
       "<table border=\"1\" class=\"dataframe\">\n",
       "  <thead>\n",
       "    <tr style=\"text-align: right;\">\n",
       "      <th></th>\n",
       "      <th>Image 1</th>\n",
       "      <th>Image 2</th>\n",
       "    </tr>\n",
       "  </thead>\n",
       "  <tbody>\n",
       "    <tr>\n",
       "      <th>Image 1</th>\n",
       "      <td>1.0</td>\n",
       "      <td>1.0</td>\n",
       "    </tr>\n",
       "    <tr>\n",
       "      <th>Image 2</th>\n",
       "      <td>1.0</td>\n",
       "      <td>1.0</td>\n",
       "    </tr>\n",
       "  </tbody>\n",
       "</table>\n",
       "</div>"
      ],
      "text/plain": [
       "         Image 1  Image 2\n",
       "Image 1      1.0      1.0\n",
       "Image 2      1.0      1.0"
      ]
     },
     "execution_count": 15,
     "metadata": {},
     "output_type": "execute_result"
    }
   ],
   "source": [
    "# Here's an example of a dice_matrix. Usually, you'd use this to compare thresholded images\n",
    "# Obviously the Dice coefficient will be one for images 1 and 2 because they're the same\n",
    "twodee_object.dice_matrix()"
   ]
  }
 ],
 "metadata": {
  "kernelspec": {
   "display_name": "Python [conda env:segmentation_env] *",
   "language": "python",
   "name": "conda-env-segmentation_env-py"
  },
  "language_info": {
   "codemirror_mode": {
    "name": "ipython",
    "version": 3
   },
   "file_extension": ".py",
   "mimetype": "text/x-python",
   "name": "python",
   "nbconvert_exporter": "python",
   "pygments_lexer": "ipython3",
   "version": "3.6.10"
  }
 },
 "nbformat": 4,
 "nbformat_minor": 2
}
